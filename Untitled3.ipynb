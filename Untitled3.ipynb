{
 "cells": [
  {
   "cell_type": "code",
   "execution_count": 1,
   "id": "b8a5aaf1",
   "metadata": {},
   "outputs": [],
   "source": [
    "import math"
   ]
  },
  {
   "cell_type": "code",
   "execution_count": 3,
   "id": "e3514e3e",
   "metadata": {},
   "outputs": [],
   "source": [
    "Paris=[200,20,200,'Paris']\n",
    "London=[250,30,120,'London']\n",
    "Dubai=[370,15,80,'Dubai']\n",
    "Mumbai=[450,10,70,'Mumbai']\n",
    "Cities=[Paris,London,Dubai,Mumbai]"
   ]
  },
  {
   "cell_type": "code",
   "execution_count": 4,
   "id": "4a6751ea",
   "metadata": {},
   "outputs": [],
   "source": [
    "def cost_of_trip(flight,hotel_cost,car_rent,num_of_days=0):\n",
    "    return flight + (hotel_cost*num_of_days)+(car_rent*math.ceil(num_of_days/7))"
   ]
  },
  {
   "cell_type": "code",
   "execution_count": 8,
   "id": "ffb0841e",
   "metadata": {},
   "outputs": [],
   "source": [
    "def days_to_visit(days):\n",
    "    costs=[]\n",
    "    for city in Cities:\n",
    "        cost = cost_of_trip(city[0],city[1],city[2],days)\n",
    "        costs.append((cost,city[3]))\n",
    "    min_cost =min(costs)\n",
    "    return min_cost\n",
    "        "
   ]
  },
  {
   "cell_type": "code",
   "execution_count": 9,
   "id": "5f098f2c",
   "metadata": {},
   "outputs": [
    {
     "data": {
      "text/plain": [
       "(540, 'Paris')"
      ]
     },
     "execution_count": 9,
     "metadata": {},
     "output_type": "execute_result"
    }
   ],
   "source": [
    "days_to_visit(7)"
   ]
  },
  {
   "cell_type": "code",
   "execution_count": 10,
   "id": "4cb7e2d0",
   "metadata": {},
   "outputs": [
    {
     "data": {
      "text/plain": [
       "(480, 'Paris')"
      ]
     },
     "execution_count": 10,
     "metadata": {},
     "output_type": "execute_result"
    }
   ],
   "source": [
    "days_to_visit(4)"
   ]
  },
  {
   "cell_type": "code",
   "execution_count": 11,
   "id": "5a45de92",
   "metadata": {},
   "outputs": [
    {
     "data": {
      "text/plain": [
       "(680, 'Dubai')"
      ]
     },
     "execution_count": 11,
     "metadata": {},
     "output_type": "execute_result"
    }
   ],
   "source": [
    "days_to_visit(10)\n"
   ]
  },
  {
   "cell_type": "code",
   "execution_count": 12,
   "id": "b32c8dad",
   "metadata": {},
   "outputs": [
    {
     "data": {
      "text/plain": [
       "(730, 'Mumbai')"
      ]
     },
     "execution_count": 12,
     "metadata": {},
     "output_type": "execute_result"
    }
   ],
   "source": [
    "days_to_visit(14)"
   ]
  },
  {
   "cell_type": "code",
   "execution_count": null,
   "id": "84e3e400",
   "metadata": {},
   "outputs": [],
   "source": []
  }
 ],
 "metadata": {
  "kernelspec": {
   "display_name": "Python 3 (ipykernel)",
   "language": "python",
   "name": "python3"
  },
  "language_info": {
   "codemirror_mode": {
    "name": "ipython",
    "version": 3
   },
   "file_extension": ".py",
   "mimetype": "text/x-python",
   "name": "python",
   "nbconvert_exporter": "python",
   "pygments_lexer": "ipython3",
   "version": "3.10.4"
  }
 },
 "nbformat": 4,
 "nbformat_minor": 5
}
